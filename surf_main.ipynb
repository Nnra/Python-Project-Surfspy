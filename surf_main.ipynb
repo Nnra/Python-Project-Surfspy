{
 "cells": [
  {
   "cell_type": "code",
   "execution_count": 41,
   "metadata": {},
   "outputs": [
    {
     "name": "stdout",
     "output_type": "stream",
     "text": [
      "Collecting arrow\n",
      "\u001b[?25l  Downloading https://files.pythonhosted.org/packages/ca/bc/ebc1afb3c54377e128a01024c006f983d03ee124bc52392b78ba98c421b8/arrow-0.17.0-py2.py3-none-any.whl (50kB)\n",
      "\u001b[K     |████████████████████████████████| 51kB 762kB/s eta 0:00:01\n",
      "\u001b[?25hRequirement already satisfied: python-dateutil>=2.7.0 in /Users/nura/opt/anaconda3/lib/python3.7/site-packages (from arrow) (2.8.0)\n",
      "Requirement already satisfied: six>=1.5 in /Users/nura/opt/anaconda3/lib/python3.7/site-packages (from python-dateutil>=2.7.0->arrow) (1.12.0)\n",
      "Installing collected packages: arrow\n",
      "Successfully installed arrow-0.17.0\n",
      "Note: you may need to restart the kernel to use updated packages.\n"
     ]
    }
   ],
   "source": [
    "pip install -- arrow"
   ]
  },
  {
   "cell_type": "code",
   "execution_count": 7,
   "metadata": {},
   "outputs": [
    {
     "name": "stdout",
     "output_type": "stream",
     "text": [
      "Collecting pandas==1.0.3\n",
      "  Using cached https://files.pythonhosted.org/packages/ad/1e/96282ff3db30befbbf8012ea69ecb0adc5e1064ef38e912bb8a3e4cfbccf/pandas-1.0.3-cp37-cp37m-macosx_10_9_x86_64.whl\n",
      "Requirement already satisfied: python-dateutil>=2.6.1 in /Users/nura/opt/anaconda3/lib/python3.7/site-packages (from pandas==1.0.3) (2.8.0)\n",
      "Requirement already satisfied: numpy>=1.13.3 in /Users/nura/opt/anaconda3/lib/python3.7/site-packages (from pandas==1.0.3) (1.17.2)\n",
      "Requirement already satisfied: pytz>=2017.2 in /Users/nura/opt/anaconda3/lib/python3.7/site-packages (from pandas==1.0.3) (2019.3)\n",
      "Requirement already satisfied: six>=1.5 in /Users/nura/opt/anaconda3/lib/python3.7/site-packages (from python-dateutil>=2.6.1->pandas==1.0.3) (1.12.0)\n",
      "Installing collected packages: pandas\n",
      "Successfully installed pandas-1.0.3\n",
      "Note: you may need to restart the kernel to use updated packages.\n"
     ]
    }
   ],
   "source": [
    "pip install --user pandas==1.0.3"
   ]
  },
  {
   "cell_type": "code",
   "execution_count": 4,
   "metadata": {},
   "outputs": [
    {
     "name": "stdout",
     "output_type": "stream",
     "text": [
      "Collecting windrose\n",
      "  Downloading https://files.pythonhosted.org/packages/0a/8d/03de4381511c2d804a8954fbfa0c3686becf8e5f4020635e661f3ec1846c/windrose-1.6.8-py2.py3-none-any.whl\n",
      "Requirement already satisfied: matplotlib in /Users/nura/opt/anaconda3/lib/python3.7/site-packages (from windrose) (3.1.1)\n",
      "Requirement already satisfied: numpy in /Users/nura/opt/anaconda3/lib/python3.7/site-packages (from windrose) (1.17.2)\n",
      "Requirement already satisfied: cycler>=0.10 in /Users/nura/opt/anaconda3/lib/python3.7/site-packages (from matplotlib->windrose) (0.10.0)\n",
      "Requirement already satisfied: kiwisolver>=1.0.1 in /Users/nura/opt/anaconda3/lib/python3.7/site-packages (from matplotlib->windrose) (1.1.0)\n",
      "Requirement already satisfied: pyparsing!=2.0.4,!=2.1.2,!=2.1.6,>=2.0.1 in /Users/nura/opt/anaconda3/lib/python3.7/site-packages (from matplotlib->windrose) (2.4.2)\n",
      "Requirement already satisfied: python-dateutil>=2.1 in /Users/nura/opt/anaconda3/lib/python3.7/site-packages (from matplotlib->windrose) (2.8.0)\n",
      "Requirement already satisfied: six in /Users/nura/opt/anaconda3/lib/python3.7/site-packages (from cycler>=0.10->matplotlib->windrose) (1.12.0)\n",
      "Requirement already satisfied: setuptools in /Users/nura/opt/anaconda3/lib/python3.7/site-packages (from kiwisolver>=1.0.1->matplotlib->windrose) (41.4.0)\n",
      "Installing collected packages: windrose\n",
      "Successfully installed windrose-1.6.8\n",
      "Note: you may need to restart the kernel to use updated packages.\n"
     ]
    }
   ],
   "source": [
    "pip install windrose"
   ]
  },
  {
   "cell_type": "code",
   "execution_count": 10,
   "metadata": {},
   "outputs": [
    {
     "name": "stdout",
     "output_type": "stream",
     "text": [
      "Collecting plotly\n",
      "\u001b[?25l  Downloading https://files.pythonhosted.org/packages/c9/09/315462259ab7b60a3d4b7159233ed700733c87d889755bdc00a9fb46d692/plotly-4.14.1-py2.py3-none-any.whl (13.2MB)\n",
      "\u001b[K     |████████████████████████████████| 13.2MB 6.3MB/s eta 0:00:01\n",
      "\u001b[?25hCollecting retrying>=1.3.3 (from plotly)\n",
      "  Downloading https://files.pythonhosted.org/packages/44/ef/beae4b4ef80902f22e3af073397f079c96969c69b2c7d52a57ea9ae61c9d/retrying-1.3.3.tar.gz\n",
      "Requirement already satisfied: six in /Users/nura/opt/anaconda3/lib/python3.7/site-packages (from plotly) (1.12.0)\n",
      "Building wheels for collected packages: retrying\n",
      "  Building wheel for retrying (setup.py) ... \u001b[?25ldone\n",
      "\u001b[?25h  Created wheel for retrying: filename=retrying-1.3.3-cp37-none-any.whl size=11429 sha256=13db6a8304ab45a753896a8d2de155948c84a17d733576ffcd892a89c1cb9ae2\n",
      "  Stored in directory: /Users/nura/Library/Caches/pip/wheels/d7/a9/33/acc7b709e2a35caa7d4cae442f6fe6fbf2c43f80823d46460c\n",
      "Successfully built retrying\n",
      "Installing collected packages: retrying, plotly\n",
      "Successfully installed plotly-4.14.1 retrying-1.3.3\n",
      "Note: you may need to restart the kernel to use updated packages.\n"
     ]
    }
   ],
   "source": [
    "pip install plotly"
   ]
  },
  {
   "cell_type": "code",
   "execution_count": 4,
   "metadata": {
    "scrolled": false
   },
   "outputs": [
    {
     "name": "stdout",
     "output_type": "stream",
     "text": [
      "Please enter your username: P\n",
      "Select an option # Surf Location:\n",
      "1) Ballina\n",
      "2) Bermagui\n",
      "3) Botany Bay\n",
      "4) Broughton I.\n",
      "5) Brunswick Heads\n",
      "6) Camden Haven\n",
      "7) Camp Cove\n",
      "8) Coffs Harbour\n",
      "9) Crookhaven Heads\n",
      "10) Crowdy Head\n",
      "11) Dangar I.\n",
      "12) Eden\n",
      "13) Ettalong\n",
      "14) Evans Head\n",
      "15) Forster\n",
      "16) Gosford\n",
      "17) Harrington Inlet\n",
      "18) Huskisson\n",
      "19) Jervis Bay\n",
      "20) Kingscliff\n",
      "21) Ku-Ring-Gai Y.C.\n",
      "22) Lord Howe Island\n",
      "23) Moruya\n",
      "24) Newcastle\n",
      "25) Nw Solitary I.\n",
      "26) Patonga\n",
      "27) Port Hacking\n",
      "28) Port Kembla\n",
      "29) Port Macquarie\n",
      "30) Port Stephens\n",
      "31) Princess Jetty\n",
      "32) Sand Pt (Pittwater)\n",
      "33) South West Rocks\n",
      "34) Swansea\n",
      "35) Sydney (Fort Denison)\n",
      "36) Tweed Heads\n",
      "37) Ulladulla Harbour\n",
      "38) Yamba\n",
      "39) Altona\n",
      "40) Apollo Bay\n",
      "41) Barracouta Platform\n",
      "42) Barwon Heads\n",
      "43) Bouchier Channel\n",
      "44) Corio Bay\n",
      "45) Cowes Jetty\n",
      "46) Elizabeth Island\n",
      "47) Flinders Jetty\n",
      "48) Gabo I.\n",
      "49) Geelong\n",
      "50) Hovell Pile\n",
      "51) Lakes Entrance (Outer)\n",
      "52) Lorne\n",
      "53) Melbourne (Williamstown)\n",
      "54) Mornington\n",
      "55) Port Fairy\n",
      "56) Point Hicks\n",
      "57) Point Lonsdale\n",
      "58) Point Richards\n",
      "59) Point Richards Channel\n",
      "60) Port Welshpool Pier\n",
      "61) Portland\n",
      "62) Port Campbell\n",
      "63) Queenscliff\n",
      "64) Rabbit Island\n",
      "65) Rosebud Jetty\n",
      "66) San Remo\n",
      "67) Sandringham\n",
      "68) St Kilda\n",
      "69) St Leonards\n",
      "70) Tooradin\n",
      "71) Waratah Bay\n",
      "72) Warrnambool\n",
      "73) Werribee\n",
      "Surf Location: 10\n",
      "Selected Surf Location: Crowdy Head\n",
      "Select an option # Surf Score:\n",
      "1) Poor 1/10\n",
      "2) Somewhat poor 2/10\n",
      "3) Just surfable 3/10\n",
      "4) a bit of fun 4/10\n",
      "5) Average 5/10\n",
      "6) above average 6/10\n",
      "7) Enjoyable 7/10\n",
      "8) Memorable 8/10\n",
      "9) Epic 9/10\n",
      "10) All time 10/10\n",
      "Surf Score: 10\n",
      "Selected Surf Score: 10\n",
      "P your surf report on: 2020-12-10 22:13:28 at Crowdy Head you gave a score of: 10\n"
     ]
    },
    {
     "data": {
      "image/png": "[encoded data removed]",
      "text/plain": [
       "<Figure size 720x720 with 1 Axes>"
      ]
     },
     "metadata": {},
     "output_type": "display_data"
    },
    {
     "data": {
      "image/png": "[encoded data removed]",
      "text/plain": [
       "<Figure size 432x288 with 1 Axes>"
      ]
     },
     "metadata": {},
     "output_type": "display_data"
    },
    {
     "data": {
      "image/png": "[encoded data removed]",
      "text/plain": [
       "<Figure size 432x288 with 1 Axes>"
      ]
     },
     "metadata": {},
     "output_type": "display_data"
    },
    {
     "data": {
      "image/png": "[encoded data removed]",
      "text/plain": [
       "<Figure size 432x288 with 1 Axes>"
      ]
     },
     "metadata": {},
     "output_type": "display_data"
    },
    {
     "data": {
      "image/png": "[encoded data removed]",
      "text/plain": [
       "<Figure size 432x288 with 1 Axes>"
      ]
     },
     "metadata": {},
     "output_type": "display_data"
    },
    {
     "data": {
      "image/png": "[encoded data removed]",
      "text/plain": [
       "<Figure size 432x288 with 1 Axes>"
      ]
     },
     "metadata": {},
     "output_type": "display_data"
    },
    {
     "data": {
      "image/png": "[encoded data removed]",
      "text/plain": [
       "<Figure size 432x288 with 1 Axes>"
      ]
     },
     "metadata": {},
     "output_type": "display_data"
    },
    {
     "data": {
      "image/png": "[encoded data removed]",
      "text/plain": [
       "<Figure size 640x640 with 1 Axes>"
      ]
     },
     "metadata": {},
     "output_type": "display_data"
    },
    {
     "data": {
      "application/vnd.plotly.v1+json": {
       "config": {
        "plotlyServerURL": "https://plot.ly"
       },
       "data": [
        {
         "lat": [
          -32.8428,
          -32.165,
          -24.2125,
          -20.2744,
          -36.0806,
          -37.1917,
          -23.7,
          -38.3861,
          -19.4239,
          -21.0931,
          -38.4064,
          -32.7817,
          -30.5,
          -36.9,
          -17.345,
          -37.7,
          -37.8333,
          -34.149,
          -10.8833,
          -28.2225,
          -24.8205,
          -35.5806,
          -38.25,
          -35.7317,
          -35.515,
          -41.2,
          -27.988000000000003,
          -24.4002,
          -19.1744,
          -18.2642,
          -37.0833,
          -31.4997,
          -31.8317,
          -27.3919,
          -38.4511,
          -28.8317,
          -32.015,
          -33.6167,
          -33.5567,
          -37.95,
          -37.49,
          -37.5908,
          -36.9167,
          -34.3525,
          -35.5167,
          -35.715,
          -25.3167,
          -36.6649,
          -38.1381,
          -17.5236,
          -29.7817,
          -34.2333,
          -12.6667,
          -33.2053,
          -16.6069,
          -35.7167,
          -34.784,
          -26.5333,
          -42.9769,
          -31.0567,
          -28.6167,
          -33.2983,
          -37.8667,
          -38.0167,
          -38.4833,
          -38.1892,
          -37.9667,
          -33.4833,
          -35.215,
          -38.1,
          -27.4667,
          -36.8983,
          -16.4603
         ],
         "lon": [
          151.3803,
          150.9011,
          151.9032,
          148.715,
          146.9158,
          145.71,
          133.8667,
          142.593,
          146.946,
          149.186,
          144.1869,
          152.0844,
          151.65,
          145.233,
          145.925,
          145.5167,
          147.6167,
          138.4145,
          142.3833,
          153.5386,
          152.4625,
          144.195,
          144.5167,
          150.2011,
          148.1344,
          146.8,
          152.9958,
          150.5133,
          146.5503,
          146.0258,
          144.267,
          145.8319,
          149.7178,
          152.5022,
          145.2419,
          153.5344,
          149.3928,
          115.1,
          150.8011,
          145.541,
          144.5889,
          143.719,
          144.7,
          150.4917,
          138.8667,
          147.3178,
          152.567,
          144.329,
          144.71,
          146.0292,
          151.1178,
          142.1667,
          132.8333,
          138.6019,
          145.343,
          143.9167,
          138.852,
          151.8333,
          147.3083,
          151.0511,
          153,
          146.3678,
          147.9833,
          144.4167,
          145.95,
          144.4644,
          144.13299999999995,
          150.15,
          146.7178,
          145.767,
          152.5833,
          149.9011,
          145.3733
         ],
         "marker": {
          "color": "blue"
         },
         "mode": "markers",
         "text": [
          "Ballina",
          "Bermagui",
          "Botany Bay",
          "Broughton I.",
          "Brunswick Heads",
          "Camden Haven",
          "Camp Cove",
          "Coffs Harbour",
          "Crookhaven Heads",
          "Crowdy Head",
          "Dangar I.",
          "Eden",
          "Ettalong",
          "Evans Head",
          "Forster",
          "Gosford",
          "Harrington Inlet",
          "Huskisson",
          "Jervis Bay",
          "Kingscliff",
          "Ku-Ring-Gai Y.C.",
          "Lord Howe Island",
          "Moruya",
          "Newcastle",
          "Nw Solitary I.",
          "Patonga",
          "Port Hacking",
          "Port Kembla",
          "Port Macquarie",
          "Port Stephens",
          "Princess Jetty",
          "Sand Pt (Pittwater)",
          "South West Rocks",
          "Swansea",
          "Sydney (Fort Denison)",
          "Tweed Heads",
          "Ulladulla Harbour",
          "Yamba",
          "Altona",
          "Apollo Bay",
          "Barracouta Platform",
          "Barwon Heads",
          "Bouchier Channel",
          "Corio Bay",
          "Cowes Jetty",
          "Elizabeth Island",
          "Flinders Jetty",
          "Gabo I.",
          "Geelong",
          "Hovell Pile",
          "Lakes Entrance (Outer)",
          "Lorne",
          "Melbourne (Williamstown)",
          "Mornington",
          "Port Fairy",
          "Point Hicks",
          "Point Lonsdale",
          "Point Richards",
          "Point Richards Channel",
          "Port Welshpool Pier",
          "Portland",
          "Port Campbell",
          "Queenscliff",
          "Rabbit Island",
          "Rosebud Jetty",
          "San Remo",
          "Sandringham",
          "St Kilda",
          "St Leonards",
          "Tooradin",
          "Waratah Bay",
          "Warrnambool",
          "Werribee"
         ],
         "type": "scattergeo"
        }
       ],
       "layout": {
        "geo": {
         "scope": "world"
        },
        "template": {
         "data": {
          "bar": [
           {
            "error_x": {
             "color": "#2a3f5f"
            },
            "error_y": {
             "color": "#2a3f5f"
            },
            "marker": {
             "line": {
              "color": "#E5ECF6",
              "width": 0.5
             }
            },
            "type": "bar"
           }
          ],
          "barpolar": [
           {
            "marker": {
             "line": {
              "color": "#E5ECF6",
              "width": 0.5
             }
            },
            "type": "barpolar"
           }
          ],
          "carpet": [
           {
            "aaxis": {
             "endlinecolor": "#2a3f5f",
             "gridcolor": "white",
             "linecolor": "white",
             "minorgridcolor": "white",
             "startlinecolor": "#2a3f5f"
            },
            "baxis": {
             "endlinecolor": "#2a3f5f",
             "gridcolor": "white",
             "linecolor": "white",
             "minorgridcolor": "white",
             "startlinecolor": "#2a3f5f"
            },
            "type": "carpet"
           }
          ],
          "choropleth": [
           {
            "colorbar": {
             "outlinewidth": 0,
             "ticks": ""
            },
            "type": "choropleth"
           }
          ],
          "contour": [
           {
            "colorbar": {
             "outlinewidth": 0,
             "ticks": ""
            },
            "colorscale": [
             [
              0,
              "#0d0887"
             ],
             [
              0.1111111111111111,
              "#46039f"
             ],
             [
              0.2222222222222222,
              "#7201a8"
             ],
             [
              0.3333333333333333,
              "#9c179e"
             ],
             [
              0.4444444444444444,
              "#bd3786"
             ],
             [
              0.5555555555555556,
              "#d8576b"
             ],
             [
              0.6666666666666666,
              "#ed7953"
             ],
             [
              0.7777777777777778,
              "#fb9f3a"
             ],
             [
              0.8888888888888888,
              "#fdca26"
             ],
             [
              1,
              "#f0f921"
             ]
            ],
            "type": "contour"
           }
          ],
          "contourcarpet": [
           {
            "colorbar": {
             "outlinewidth": 0,
             "ticks": ""
            },
            "type": "contourcarpet"
           }
          ],
          "heatmap": [
           {
            "colorbar": {
             "outlinewidth": 0,
             "ticks": ""
            },
            "colorscale": [
             [
              0,
              "#0d0887"
             ],
             [
              0.1111111111111111,
              "#46039f"
             ],
             [
              0.2222222222222222,
              "#7201a8"
             ],
             [
              0.3333333333333333,
              "#9c179e"
             ],
             [
              0.4444444444444444,
              "#bd3786"
             ],
             [
              0.5555555555555556,
              "#d8576b"
             ],
             [
              0.6666666666666666,
              "#ed7953"
             ],
             [
              0.7777777777777778,
              "#fb9f3a"
             ],
             [
              0.8888888888888888,
              "#fdca26"
             ],
             [
              1,
              "#f0f921"
             ]
            ],
            "type": "heatmap"
           }
          ],
          "heatmapgl": [
           {
            "colorbar": {
             "outlinewidth": 0,
             "ticks": ""
            },
            "colorscale": [
             [
              0,
              "#0d0887"
             ],
             [
              0.1111111111111111,
              "#46039f"
             ],
             [
              0.2222222222222222,
              "#7201a8"
             ],
             [
              0.3333333333333333,
              "#9c179e"
             ],
             [
              0.4444444444444444,
              "#bd3786"
             ],
             [
              0.5555555555555556,
              "#d8576b"
             ],
             [
              0.6666666666666666,
              "#ed7953"
             ],
             [
              0.7777777777777778,
              "#fb9f3a"
             ],
             [
              0.8888888888888888,
              "#fdca26"
             ],
             [
              1,
              "#f0f921"
             ]
            ],
            "type": "heatmapgl"
           }
          ],
          "histogram": [
           {
            "marker": {
             "colorbar": {
              "outlinewidth": 0,
              "ticks": ""
             }
            },
            "type": "histogram"
           }
          ],
          "histogram2d": [
           {
            "colorbar": {
             "outlinewidth": 0,
             "ticks": ""
            },
            "colorscale": [
             [
              0,
              "#0d0887"
             ],
             [
              0.1111111111111111,
              "#46039f"
             ],
             [
              0.2222222222222222,
              "#7201a8"
             ],
             [
              0.3333333333333333,
              "#9c179e"
             ],
             [
              0.4444444444444444,
              "#bd3786"
             ],
             [
              0.5555555555555556,
              "#d8576b"
             ],
             [
              0.6666666666666666,
              "#ed7953"
             ],
             [
              0.7777777777777778,
              "#fb9f3a"
             ],
             [
              0.8888888888888888,
              "#fdca26"
             ],
             [
              1,
              "#f0f921"
             ]
            ],
            "type": "histogram2d"
           }
          ],
          "histogram2dcontour": [
           {
            "colorbar": {
             "outlinewidth": 0,
             "ticks": ""
            },
            "colorscale": [
             [
              0,
              "#0d0887"
             ],
             [
              0.1111111111111111,
              "#46039f"
             ],
             [
              0.2222222222222222,
              "#7201a8"
             ],
             [
              0.3333333333333333,
              "#9c179e"
             ],
             [
              0.4444444444444444,
              "#bd3786"
             ],
             [
              0.5555555555555556,
              "#d8576b"
             ],
             [
              0.6666666666666666,
              "#ed7953"
             ],
             [
              0.7777777777777778,
              "#fb9f3a"
             ],
             [
              0.8888888888888888,
              "#fdca26"
             ],
             [
              1,
              "#f0f921"
             ]
            ],
            "type": "histogram2dcontour"
           }
          ],
          "mesh3d": [
           {
            "colorbar": {
             "outlinewidth": 0,
             "ticks": ""
            },
            "type": "mesh3d"
           }
          ],
          "parcoords": [
           {
            "line": {
             "colorbar": {
              "outlinewidth": 0,
              "ticks": ""
             }
            },
            "type": "parcoords"
           }
          ],
          "pie": [
           {
            "automargin": true,
            "type": "pie"
           }
          ],
          "scatter": [
           {
            "marker": {
             "colorbar": {
              "outlinewidth": 0,
              "ticks": ""
             }
            },
            "type": "scatter"
           }
          ],
          "scatter3d": [
           {
            "line": {
             "colorbar": {
              "outlinewidth": 0,
              "ticks": ""
             }
            },
            "marker": {
             "colorbar": {
              "outlinewidth": 0,
              "ticks": ""
             }
            },
            "type": "scatter3d"
           }
          ],
          "scattercarpet": [
           {
            "marker": {
             "colorbar": {
              "outlinewidth": 0,
              "ticks": ""
             }
            },
            "type": "scattercarpet"
           }
          ],
          "scattergeo": [
           {
            "marker": {
             "colorbar": {
              "outlinewidth": 0,
              "ticks": ""
             }
            },
            "type": "scattergeo"
           }
          ],
          "scattergl": [
           {
            "marker": {
             "colorbar": {
              "outlinewidth": 0,
              "ticks": ""
             }
            },
            "type": "scattergl"
           }
          ],
          "scattermapbox": [
           {
            "marker": {
             "colorbar": {
              "outlinewidth": 0,
              "ticks": ""
             }
            },
            "type": "scattermapbox"
           }
          ],
          "scatterpolar": [
           {
            "marker": {
             "colorbar": {
              "outlinewidth": 0,
              "ticks": ""
             }
            },
            "type": "scatterpolar"
           }
          ],
          "scatterpolargl": [
           {
            "marker": {
             "colorbar": {
              "outlinewidth": 0,
              "ticks": ""
             }
            },
            "type": "scatterpolargl"
           }
          ],
          "scatterternary": [
           {
            "marker": {
             "colorbar": {
              "outlinewidth": 0,
              "ticks": ""
             }
            },
            "type": "scatterternary"
           }
          ],
          "surface": [
           {
            "colorbar": {
             "outlinewidth": 0,
             "ticks": ""
            },
            "colorscale": [
             [
              0,
              "#0d0887"
             ],
             [
              0.1111111111111111,
              "#46039f"
             ],
             [
              0.2222222222222222,
              "#7201a8"
             ],
             [
              0.3333333333333333,
              "#9c179e"
             ],
             [
              0.4444444444444444,
              "#bd3786"
             ],
             [
              0.5555555555555556,
              "#d8576b"
             ],
             [
              0.6666666666666666,
              "#ed7953"
             ],
             [
              0.7777777777777778,
              "#fb9f3a"
             ],
             [
              0.8888888888888888,
              "#fdca26"
             ],
             [
              1,
              "#f0f921"
             ]
            ],
            "type": "surface"
           }
          ],
          "table": [
           {
            "cells": {
             "fill": {
              "color": "#EBF0F8"
             },
             "line": {
              "color": "white"
             }
            },
            "header": {
             "fill": {
              "color": "#C8D4E3"
             },
             "line": {
              "color": "white"
             }
            },
            "type": "table"
           }
          ]
         },
         "layout": {
          "annotationdefaults": {
           "arrowcolor": "#2a3f5f",
           "arrowhead": 0,
           "arrowwidth": 1
          },
          "autotypenumbers": "strict",
          "coloraxis": {
           "colorbar": {
            "outlinewidth": 0,
            "ticks": ""
           }
          },
          "colorscale": {
           "diverging": [
            [
             0,
             "#8e0152"
            ],
            [
             0.1,
             "#c51b7d"
            ],
            [
             0.2,
             "#de77ae"
            ],
            [
             0.3,
             "#f1b6da"
            ],
            [
             0.4,
             "#fde0ef"
            ],
            [
             0.5,
             "#f7f7f7"
            ],
            [
             0.6,
             "#e6f5d0"
            ],
            [
             0.7,
             "#b8e186"
            ],
            [
             0.8,
             "#7fbc41"
            ],
            [
             0.9,
             "#4d9221"
            ],
            [
             1,
             "#276419"
            ]
           ],
           "sequential": [
            [
             0,
             "#0d0887"
            ],
            [
             0.1111111111111111,
             "#46039f"
            ],
            [
             0.2222222222222222,
             "#7201a8"
            ],
            [
             0.3333333333333333,
             "#9c179e"
            ],
            [
             0.4444444444444444,
             "#bd3786"
            ],
            [
             0.5555555555555556,
             "#d8576b"
            ],
            [
             0.6666666666666666,
             "#ed7953"
            ],
            [
             0.7777777777777778,
             "#fb9f3a"
            ],
            [
             0.8888888888888888,
             "#fdca26"
            ],
            [
             1,
             "#f0f921"
            ]
           ],
           "sequentialminus": [
            [
             0,
             "#0d0887"
            ],
            [
             0.1111111111111111,
             "#46039f"
            ],
            [
             0.2222222222222222,
             "#7201a8"
            ],
            [
             0.3333333333333333,
             "#9c179e"
            ],
            [
             0.4444444444444444,
             "#bd3786"
            ],
            [
             0.5555555555555556,
             "#d8576b"
            ],
            [
             0.6666666666666666,
             "#ed7953"
            ],
            [
             0.7777777777777778,
             "#fb9f3a"
            ],
            [
             0.8888888888888888,
             "#fdca26"
            ],
            [
             1,
             "#f0f921"
            ]
           ]
          },
          "colorway": [
           "#636efa",
           "#EF553B",
           "#00cc96",
           "#ab63fa",
           "#FFA15A",
           "#19d3f3",
           "#FF6692",
           "#B6E880",
           "#FF97FF",
           "#FECB52"
          ],
          "font": {
           "color": "#2a3f5f"
          },
          "geo": {
           "bgcolor": "white",
           "lakecolor": "white",
           "landcolor": "#E5ECF6",
           "showlakes": true,
           "showland": true,
           "subunitcolor": "white"
          },
          "hoverlabel": {
           "align": "left"
          },
          "hovermode": "closest",
          "mapbox": {
           "style": "light"
          },
          "paper_bgcolor": "white",
          "plot_bgcolor": "#E5ECF6",
          "polar": {
           "angularaxis": {
            "gridcolor": "white",
            "linecolor": "white",
            "ticks": ""
           },
           "bgcolor": "#E5ECF6",
           "radialaxis": {
            "gridcolor": "white",
            "linecolor": "white",
            "ticks": ""
           }
          },
          "scene": {
           "xaxis": {
            "backgroundcolor": "#E5ECF6",
            "gridcolor": "white",
            "gridwidth": 2,
            "linecolor": "white",
            "showbackground": true,
            "ticks": "",
            "zerolinecolor": "white"
           },
           "yaxis": {
            "backgroundcolor": "#E5ECF6",
            "gridcolor": "white",
            "gridwidth": 2,
            "linecolor": "white",
            "showbackground": true,
            "ticks": "",
            "zerolinecolor": "white"
           },
           "zaxis": {
            "backgroundcolor": "#E5ECF6",
            "gridcolor": "white",
            "gridwidth": 2,
            "linecolor": "white",
            "showbackground": true,
            "ticks": "",
            "zerolinecolor": "white"
           }
          },
          "shapedefaults": {
           "line": {
            "color": "#2a3f5f"
           }
          },
          "ternary": {
           "aaxis": {
            "gridcolor": "white",
            "linecolor": "white",
            "ticks": ""
           },
           "baxis": {
            "gridcolor": "white",
            "linecolor": "white",
            "ticks": ""
           },
           "bgcolor": "#E5ECF6",
           "caxis": {
            "gridcolor": "white",
            "linecolor": "white",
            "ticks": ""
           }
          },
          "title": {
           "x": 0.05
          },
          "xaxis": {
           "automargin": true,
           "gridcolor": "white",
           "linecolor": "white",
           "ticks": "",
           "title": {
            "standoff": 15
           },
           "zerolinecolor": "white",
           "zerolinewidth": 2
          },
          "yaxis": {
           "automargin": true,
           "gridcolor": "white",
           "linecolor": "white",
           "ticks": "",
           "title": {
            "standoff": 15
           },
           "zerolinecolor": "white",
           "zerolinewidth": 2
          }
         }
        },
        "title": {
         "text": "Coast locations"
        }
       }
      },
      "text/html": [
       "<div>                            <div id=\"0f134f01-b8f4-45d9-98d8-3f25fe32d0fb\" class=\"plotly-graph-div\" style=\"height:525px; width:100%;\"></div>            <script type=\"text/javascript\">                require([\"plotly\"], function(Plotly) {                    window.PLOTLYENV=window.PLOTLYENV || {};                                    if (document.getElementById(\"0f134f01-b8f4-45d9-98d8-3f25fe32d0fb\")) {                    Plotly.newPlot(                        \"0f134f01-b8f4-45d9-98d8-3f25fe32d0fb\",                        [{\"lat\": [-32.8428, -32.165, -24.2125, -20.2744, -36.0806, -37.1917, -23.7, -38.3861, -19.4239, -21.0931, -38.4064, -32.7817, -30.5, -36.9, -17.345, -37.7, -37.8333, -34.149, -10.8833, -28.2225, -24.8205, -35.5806, -38.25, -35.7317, -35.515, -41.2, -27.988000000000003, -24.4002, -19.1744, -18.2642, -37.0833, -31.4997, -31.8317, -27.3919, -38.4511, -28.8317, -32.015, -33.6167, -33.5567, -37.95, -37.49, -37.5908, -36.9167, -34.3525, -35.5167, -35.715, -25.3167, -36.6649, -38.1381, -17.5236, -29.7817, -34.2333, -12.6667, -33.2053, -16.6069, -35.7167, -34.784, -26.5333, -42.9769, -31.0567, -28.6167, -33.2983, -37.8667, -38.0167, -38.4833, -38.1892, -37.9667, -33.4833, -35.215, -38.1, -27.4667, -36.8983, -16.4603], \"lon\": [151.3803, 150.9011, 151.9032, 148.715, 146.9158, 145.71, 133.8667, 142.593, 146.946, 149.186, 144.1869, 152.0844, 151.65, 145.233, 145.925, 145.5167, 147.6167, 138.4145, 142.3833, 153.5386, 152.4625, 144.195, 144.5167, 150.2011, 148.1344, 146.8, 152.9958, 150.5133, 146.5503, 146.0258, 144.267, 145.8319, 149.7178, 152.5022, 145.2419, 153.5344, 149.3928, 115.1, 150.8011, 145.541, 144.5889, 143.719, 144.7, 150.4917, 138.8667, 147.3178, 152.567, 144.329, 144.71, 146.0292, 151.1178, 142.1667, 132.8333, 138.6019, 145.343, 143.9167, 138.852, 151.8333, 147.3083, 151.0511, 153.0, 146.3678, 147.9833, 144.4167, 145.95, 144.4644, 144.13299999999995, 150.15, 146.7178, 145.767, 152.5833, 149.9011, 145.3733], \"marker\": {\"color\": \"blue\"}, \"mode\": \"markers\", \"text\": [\"Ballina\", \"Bermagui\", \"Botany Bay\", \"Broughton I.\", \"Brunswick Heads\", \"Camden Haven\", \"Camp Cove\", \"Coffs Harbour\", \"Crookhaven Heads\", \"Crowdy Head\", \"Dangar I.\", \"Eden\", \"Ettalong\", \"Evans Head\", \"Forster\", \"Gosford\", \"Harrington Inlet\", \"Huskisson\", \"Jervis Bay\", \"Kingscliff\", \"Ku-Ring-Gai Y.C.\", \"Lord Howe Island\", \"Moruya\", \"Newcastle\", \"Nw Solitary I.\", \"Patonga\", \"Port Hacking\", \"Port Kembla\", \"Port Macquarie\", \"Port Stephens\", \"Princess Jetty\", \"Sand Pt (Pittwater)\", \"South West Rocks\", \"Swansea\", \"Sydney (Fort Denison)\", \"Tweed Heads\", \"Ulladulla Harbour\", \"Yamba\", \"Altona\", \"Apollo Bay\", \"Barracouta Platform\", \"Barwon Heads\", \"Bouchier Channel\", \"Corio Bay\", \"Cowes Jetty\", \"Elizabeth Island\", \"Flinders Jetty\", \"Gabo I.\", \"Geelong\", \"Hovell Pile\", \"Lakes Entrance (Outer)\", \"Lorne\", \"Melbourne (Williamstown)\", \"Mornington\", \"Port Fairy\", \"Point Hicks\", \"Point Lonsdale\", \"Point Richards\", \"Point Richards Channel\", \"Port Welshpool Pier\", \"Portland\", \"Port Campbell\", \"Queenscliff\", \"Rabbit Island\", \"Rosebud Jetty\", \"San Remo\", \"Sandringham\", \"St Kilda\", \"St Leonards\", \"Tooradin\", \"Waratah Bay\", \"Warrnambool\", \"Werribee\"], \"type\": \"scattergeo\"}],                        {\"geo\": {\"scope\": \"world\"}, \"template\": {\"data\": {\"bar\": [{\"error_x\": {\"color\": \"#2a3f5f\"}, \"error_y\": {\"color\": \"#2a3f5f\"}, \"marker\": {\"line\": {\"color\": \"#E5ECF6\", \"width\": 0.5}}, \"type\": \"bar\"}], \"barpolar\": [{\"marker\": {\"line\": {\"color\": \"#E5ECF6\", \"width\": 0.5}}, \"type\": \"barpolar\"}], \"carpet\": [{\"aaxis\": {\"endlinecolor\": \"#2a3f5f\", \"gridcolor\": \"white\", \"linecolor\": \"white\", \"minorgridcolor\": \"white\", \"startlinecolor\": \"#2a3f5f\"}, \"baxis\": {\"endlinecolor\": \"#2a3f5f\", \"gridcolor\": \"white\", \"linecolor\": \"white\", \"minorgridcolor\": \"white\", \"startlinecolor\": \"#2a3f5f\"}, \"type\": \"carpet\"}], \"choropleth\": [{\"colorbar\": {\"outlinewidth\": 0, \"ticks\": \"\"}, \"type\": \"choropleth\"}], \"contour\": [{\"colorbar\": {\"outlinewidth\": 0, \"ticks\": \"\"}, \"colorscale\": [[0.0, \"#0d0887\"], [0.1111111111111111, \"#46039f\"], [0.2222222222222222, \"#7201a8\"], [0.3333333333333333, \"#9c179e\"], [0.4444444444444444, \"#bd3786\"], [0.5555555555555556, \"#d8576b\"], [0.6666666666666666, \"#ed7953\"], [0.7777777777777778, \"#fb9f3a\"], [0.8888888888888888, \"#fdca26\"], [1.0, \"#f0f921\"]], \"type\": \"contour\"}], \"contourcarpet\": [{\"colorbar\": {\"outlinewidth\": 0, \"ticks\": \"\"}, \"type\": \"contourcarpet\"}], \"heatmap\": [{\"colorbar\": {\"outlinewidth\": 0, \"ticks\": \"\"}, \"colorscale\": [[0.0, \"#0d0887\"], [0.1111111111111111, \"#46039f\"], [0.2222222222222222, \"#7201a8\"], [0.3333333333333333, \"#9c179e\"], [0.4444444444444444, \"#bd3786\"], [0.5555555555555556, \"#d8576b\"], [0.6666666666666666, \"#ed7953\"], [0.7777777777777778, \"#fb9f3a\"], [0.8888888888888888, \"#fdca26\"], [1.0, \"#f0f921\"]], \"type\": \"heatmap\"}], \"heatmapgl\": [{\"colorbar\": {\"outlinewidth\": 0, \"ticks\": \"\"}, \"colorscale\": [[0.0, \"#0d0887\"], [0.1111111111111111, \"#46039f\"], [0.2222222222222222, \"#7201a8\"], [0.3333333333333333, \"#9c179e\"], [0.4444444444444444, \"#bd3786\"], [0.5555555555555556, \"#d8576b\"], [0.6666666666666666, \"#ed7953\"], [0.7777777777777778, \"#fb9f3a\"], [0.8888888888888888, \"#fdca26\"], [1.0, \"#f0f921\"]], \"type\": \"heatmapgl\"}], \"histogram\": [{\"marker\": {\"colorbar\": {\"outlinewidth\": 0, \"ticks\": \"\"}}, \"type\": \"histogram\"}], \"histogram2d\": [{\"colorbar\": {\"outlinewidth\": 0, \"ticks\": \"\"}, \"colorscale\": [[0.0, \"#0d0887\"], [0.1111111111111111, \"#46039f\"], [0.2222222222222222, \"#7201a8\"], [0.3333333333333333, \"#9c179e\"], [0.4444444444444444, \"#bd3786\"], [0.5555555555555556, \"#d8576b\"], [0.6666666666666666, \"#ed7953\"], [0.7777777777777778, \"#fb9f3a\"], [0.8888888888888888, \"#fdca26\"], [1.0, \"#f0f921\"]], \"type\": \"histogram2d\"}], \"histogram2dcontour\": [{\"colorbar\": {\"outlinewidth\": 0, \"ticks\": \"\"}, \"colorscale\": [[0.0, \"#0d0887\"], [0.1111111111111111, \"#46039f\"], [0.2222222222222222, \"#7201a8\"], [0.3333333333333333, \"#9c179e\"], [0.4444444444444444, \"#bd3786\"], [0.5555555555555556, \"#d8576b\"], [0.6666666666666666, \"#ed7953\"], [0.7777777777777778, \"#fb9f3a\"], [0.8888888888888888, \"#fdca26\"], [1.0, \"#f0f921\"]], \"type\": \"histogram2dcontour\"}], \"mesh3d\": [{\"colorbar\": {\"outlinewidth\": 0, \"ticks\": \"\"}, \"type\": \"mesh3d\"}], \"parcoords\": [{\"line\": {\"colorbar\": {\"outlinewidth\": 0, \"ticks\": \"\"}}, \"type\": \"parcoords\"}], \"pie\": [{\"automargin\": true, \"type\": \"pie\"}], \"scatter\": [{\"marker\": {\"colorbar\": {\"outlinewidth\": 0, \"ticks\": \"\"}}, \"type\": \"scatter\"}], \"scatter3d\": [{\"line\": {\"colorbar\": {\"outlinewidth\": 0, \"ticks\": \"\"}}, \"marker\": {\"colorbar\": {\"outlinewidth\": 0, \"ticks\": \"\"}}, \"type\": \"scatter3d\"}], \"scattercarpet\": [{\"marker\": {\"colorbar\": {\"outlinewidth\": 0, \"ticks\": \"\"}}, \"type\": \"scattercarpet\"}], \"scattergeo\": [{\"marker\": {\"colorbar\": {\"outlinewidth\": 0, \"ticks\": \"\"}}, \"type\": \"scattergeo\"}], \"scattergl\": [{\"marker\": {\"colorbar\": {\"outlinewidth\": 0, \"ticks\": \"\"}}, \"type\": \"scattergl\"}], \"scattermapbox\": [{\"marker\": {\"colorbar\": {\"outlinewidth\": 0, \"ticks\": \"\"}}, \"type\": \"scattermapbox\"}], \"scatterpolar\": [{\"marker\": {\"colorbar\": {\"outlinewidth\": 0, \"ticks\": \"\"}}, \"type\": \"scatterpolar\"}], \"scatterpolargl\": [{\"marker\": {\"colorbar\": {\"outlinewidth\": 0, \"ticks\": \"\"}}, \"type\": \"scatterpolargl\"}], \"scatterternary\": [{\"marker\": {\"colorbar\": {\"outlinewidth\": 0, \"ticks\": \"\"}}, \"type\": \"scatterternary\"}], \"surface\": [{\"colorbar\": {\"outlinewidth\": 0, \"ticks\": \"\"}, \"colorscale\": [[0.0, \"#0d0887\"], [0.1111111111111111, \"#46039f\"], [0.2222222222222222, \"#7201a8\"], [0.3333333333333333, \"#9c179e\"], [0.4444444444444444, \"#bd3786\"], [0.5555555555555556, \"#d8576b\"], [0.6666666666666666, \"#ed7953\"], [0.7777777777777778, \"#fb9f3a\"], [0.8888888888888888, \"#fdca26\"], [1.0, \"#f0f921\"]], \"type\": \"surface\"}], \"table\": [{\"cells\": {\"fill\": {\"color\": \"#EBF0F8\"}, \"line\": {\"color\": \"white\"}}, \"header\": {\"fill\": {\"color\": \"#C8D4E3\"}, \"line\": {\"color\": \"white\"}}, \"type\": \"table\"}]}, \"layout\": {\"annotationdefaults\": {\"arrowcolor\": \"#2a3f5f\", \"arrowhead\": 0, \"arrowwidth\": 1}, \"autotypenumbers\": \"strict\", \"coloraxis\": {\"colorbar\": {\"outlinewidth\": 0, \"ticks\": \"\"}}, \"colorscale\": {\"diverging\": [[0, \"#8e0152\"], [0.1, \"#c51b7d\"], [0.2, \"#de77ae\"], [0.3, \"#f1b6da\"], [0.4, \"#fde0ef\"], [0.5, \"#f7f7f7\"], [0.6, \"#e6f5d0\"], [0.7, \"#b8e186\"], [0.8, \"#7fbc41\"], [0.9, \"#4d9221\"], [1, \"#276419\"]], \"sequential\": [[0.0, \"#0d0887\"], [0.1111111111111111, \"#46039f\"], [0.2222222222222222, \"#7201a8\"], [0.3333333333333333, \"#9c179e\"], [0.4444444444444444, \"#bd3786\"], [0.5555555555555556, \"#d8576b\"], [0.6666666666666666, \"#ed7953\"], [0.7777777777777778, \"#fb9f3a\"], [0.8888888888888888, \"#fdca26\"], [1.0, \"#f0f921\"]], \"sequentialminus\": [[0.0, \"#0d0887\"], [0.1111111111111111, \"#46039f\"], [0.2222222222222222, \"#7201a8\"], [0.3333333333333333, \"#9c179e\"], [0.4444444444444444, \"#bd3786\"], [0.5555555555555556, \"#d8576b\"], [0.6666666666666666, \"#ed7953\"], [0.7777777777777778, \"#fb9f3a\"], [0.8888888888888888, \"#fdca26\"], [1.0, \"#f0f921\"]]}, \"colorway\": [\"#636efa\", \"#EF553B\", \"#00cc96\", \"#ab63fa\", \"#FFA15A\", \"#19d3f3\", \"#FF6692\", \"#B6E880\", \"#FF97FF\", \"#FECB52\"], \"font\": {\"color\": \"#2a3f5f\"}, \"geo\": {\"bgcolor\": \"white\", \"lakecolor\": \"white\", \"landcolor\": \"#E5ECF6\", \"showlakes\": true, \"showland\": true, \"subunitcolor\": \"white\"}, \"hoverlabel\": {\"align\": \"left\"}, \"hovermode\": \"closest\", \"mapbox\": {\"style\": \"light\"}, \"paper_bgcolor\": \"white\", \"plot_bgcolor\": \"#E5ECF6\", \"polar\": {\"angularaxis\": {\"gridcolor\": \"white\", \"linecolor\": \"white\", \"ticks\": \"\"}, \"bgcolor\": \"#E5ECF6\", \"radialaxis\": {\"gridcolor\": \"white\", \"linecolor\": \"white\", \"ticks\": \"\"}}, \"scene\": {\"xaxis\": {\"backgroundcolor\": \"#E5ECF6\", \"gridcolor\": \"white\", \"gridwidth\": 2, \"linecolor\": \"white\", \"showbackground\": true, \"ticks\": \"\", \"zerolinecolor\": \"white\"}, \"yaxis\": {\"backgroundcolor\": \"#E5ECF6\", \"gridcolor\": \"white\", \"gridwidth\": 2, \"linecolor\": \"white\", \"showbackground\": true, \"ticks\": \"\", \"zerolinecolor\": \"white\"}, \"zaxis\": {\"backgroundcolor\": \"#E5ECF6\", \"gridcolor\": \"white\", \"gridwidth\": 2, \"linecolor\": \"white\", \"showbackground\": true, \"ticks\": \"\", \"zerolinecolor\": \"white\"}}, \"shapedefaults\": {\"line\": {\"color\": \"#2a3f5f\"}}, \"ternary\": {\"aaxis\": {\"gridcolor\": \"white\", \"linecolor\": \"white\", \"ticks\": \"\"}, \"baxis\": {\"gridcolor\": \"white\", \"linecolor\": \"white\", \"ticks\": \"\"}, \"bgcolor\": \"#E5ECF6\", \"caxis\": {\"gridcolor\": \"white\", \"linecolor\": \"white\", \"ticks\": \"\"}}, \"title\": {\"x\": 0.05}, \"xaxis\": {\"automargin\": true, \"gridcolor\": \"white\", \"linecolor\": \"white\", \"ticks\": \"\", \"title\": {\"standoff\": 15}, \"zerolinecolor\": \"white\", \"zerolinewidth\": 2}, \"yaxis\": {\"automargin\": true, \"gridcolor\": \"white\", \"linecolor\": \"white\", \"ticks\": \"\", \"title\": {\"standoff\": 15}, \"zerolinecolor\": \"white\", \"zerolinewidth\": 2}}}, \"title\": {\"text\": \"Coast locations\"}},                        {\"responsive\": true}                    ).then(function(){\n",
       "                            \n",
       "var gd = document.getElementById('0f134f01-b8f4-45d9-98d8-3f25fe32d0fb');\n",
       "var x = new MutationObserver(function (mutations, observer) {{\n",
       "        var display = window.getComputedStyle(gd).display;\n",
       "        if (!display || display === 'none') {{\n",
       "            console.log([gd, 'removed!']);\n",
       "            Plotly.purge(gd);\n",
       "            observer.disconnect();\n",
       "        }}\n",
       "}});\n",
       "\n",
       "// Listen for the removal of the full notebook cells\n",
       "var notebookContainer = gd.closest('#notebook-container');\n",
       "if (notebookContainer) {{\n",
       "    x.observe(notebookContainer, {childList: true});\n",
       "}}\n",
       "\n",
       "// Listen for the clearing of the current output cell\n",
       "var outputEl = gd.closest('.output');\n",
       "if (outputEl) {{\n",
       "    x.observe(outputEl, {childList: true});\n",
       "}}\n",
       "\n",
       "                        })                };                });            </script>        </div>"
      ]
     },
     "metadata": {},
     "output_type": "display_data"
    },
    {
     "data": {
      "image/png": "[encoded data removed]",
      "text/plain": [
       "<Figure size 432x288 with 1 Axes>"
      ]
     },
     "metadata": {},
     "output_type": "display_data"
    }
   ],
   "source": [
    "# pip install -- arrow\n",
    "# pip install --user pandas==1.0.3\n",
    "# pip install windrose\n",
    "import numpy as np\n",
    "import pandas as pd\n",
    "import json\n",
    "import csv\n",
    "from tides import tideScraper, tideCalculator\n",
    "from pandas.io.json import json_normalize\n",
    "import arrow ##*****************need to update to install package.\n",
    "import requests\n",
    "import sys\n",
    "\n",
    "if not sys.warnoptions:\n",
    "    import warnings\n",
    "    warnings.simplefilter(\"ignore\")\n",
    "\n",
    "'''\n",
    "data = []\n",
    "with open('location_json_output.json','r') as fh:#json file in multi line format\n",
    "    for line in fh:\n",
    "        data.append(json.loads(line))\n",
    "\n",
    "    \n",
    "# the json file where the output must be stored  \n",
    "out_file = open(\"myfile.json\", \"w\")  \n",
    "json.dump(data, out_file, indent = 6)  \n",
    "out_file.close()  \n",
    "\n",
    "#convert to CSV\n",
    "#df = pd.read_json(r'myfile.json')\n",
    "#df.to_csv(r'D:\\CMU\\Python\\assignment\\location2.csv', index = None)\n",
    "'''\n",
    "def selectFromDict(options, name):\n",
    "    try:\n",
    "        index = 0\n",
    "        indexValidList = []\n",
    "        print('Select an option # ' + name + ':')\n",
    "        for optionName in options:\n",
    "            index = index + 1\n",
    "            indexValidList.extend([options[optionName]])\n",
    "            print(str(index) + ') ' + optionName)\n",
    "        inputValid = False\n",
    "        \n",
    "        while not inputValid:\n",
    "            inputRaw = input(name + ': ')   \n",
    "            #if valid number\n",
    "            if inputRaw.isnumeric() and (int(inputRaw) - 1) > -1 and (int(inputRaw) - 1) < len(indexValidList) :\n",
    "                inputNo = int(inputRaw) - 1\n",
    "                selected = indexValidList[inputNo]\n",
    "                print('Selected ' +  name + ': ' + selected)\n",
    "                inputValid = True\n",
    "                break\n",
    "            else:\n",
    "                print('Please select a valid ' + name + ' number')\n",
    "\n",
    "        return selected\n",
    "    except:\n",
    "        print('Error Please start again')\n",
    "    \n",
    "\n",
    "score = {}\n",
    "score['Poor 1/10'] = '1'\n",
    "score['Somewhat poor 2/10'] = '2'\n",
    "score['Just surfable 3/10'] = '3'\n",
    "score['a bit of fun 4/10'] = '4'\n",
    "score['Average 5/10'] = '5'\n",
    "score['above average 6/10'] = '6'\n",
    "score['Enjoyable 7/10'] = '7'\n",
    "score['Memorable 8/10'] = '8'\n",
    "score['Epic 9/10'] = '9'\n",
    "score['All time 10/10'] = '10'\n",
    "\n",
    "'''\n",
    "df1 = pd.read_csv(r'merged_data.csv')\n",
    "#print(df1)\n",
    "#build locations from merged_data\n",
    "#to build dict of coast spots\n",
    "listloc1 = df1['coastSpot'].to_list()\n",
    "listloc2 = df1['coastSpot'].to_list()\n",
    "\n",
    "print(df1.loc[: , ['coastSpot']])\n",
    "'''\n",
    "\n",
    "#read first approx 20 locations from clean tides csv - for speed of running\n",
    "#df10 = pd.read_csv(r'clean_tides_utc.csv', nrows=1220)\n",
    "df10 = pd.read_csv(r'location.csv', nrows=1220)\n",
    "\n",
    "\n",
    "#to build dict of coast spots\n",
    "listloc1 = df10['location_name'].to_list()\n",
    "#listloc2 = df10['location'].to_list()\n",
    "\n",
    "#print(listloc1)\n",
    "\n",
    "res = {} \n",
    "for key in listloc1: \n",
    "    res[key] = key #will add only if new.\n",
    "#print(res)\n",
    "        \n",
    "'''\n",
    "loc = {}\n",
    "loc['Glenelg'] = 'Glenelg'\n",
    "loc['Middleton'] = 'Middleton'\n",
    "loc['Goolwa'] = 'Goolwa'\n",
    "loc['Brettys Right'] = 'Brettys Right'\n",
    "loc['Tunkalilla'] = 'Tunkalilla'\n",
    "loc['Waits'] = 'Waits'\n",
    "loc['Parsons'] = 'Parsons'\n",
    "loc['Middleton Point'] = 'Middleton Point'\n",
    "loc['Day street'] = 'Day street'\n",
    "loc['Key holes'] = 'Key holes'\n",
    "loc['Burleigh Heads'] = 'Burleigh Heads'\n",
    "'''\n",
    "#user name\n",
    "userName = input(\"Please enter your username: \")\n",
    "\n",
    "# user select a location\n",
    "loc = selectFromDict(res, 'Surf Location')\n",
    "\n",
    "# user selects a surf score\n",
    "score = selectFromDict(score, 'Surf Score')\n",
    "\n",
    "from datetime import datetime\n",
    "#capture data and time\n",
    "now = datetime.now()\n",
    "\n",
    "print(userName + ' your surf report on: ' + now.strftime(\"%Y-%m-%d %H:%M:%S\") + ' at ' + loc + ' you gave a score of: ' + score)\n",
    "\n",
    "##############################  Parameters  ###################################\n",
    "loc = loc\n",
    "# long = df10.loc[df10['location_name'] == loc]['Long']\n",
    "long = df10.loc[df10['location_name'] == loc]['Long'].values[0]\n",
    "# lat = df10.loc[df10['location_name'] == loc]['Lat']\n",
    "lat = df10.loc[df10['location_name'] == loc]['Lat'].values[0]\n",
    "state = df10.loc[df10['location_name'] == loc]['state'].values[0]\n",
    "date = now.strftime('%d-%m-%y')\n",
    "\n",
    "##############################  Parameters  ###################################\n",
    "# Weather Data\n",
    "# Get first hour of today\n",
    "start = arrow.now().floor('day')\n",
    "\n",
    "# Get last hour of today\n",
    "end = arrow.now().ceil('day')\n",
    "\n",
    "response = requests.get(\n",
    "  'https://api.stormglass.io/v2/weather/point',\n",
    "  params={\n",
    "    'lat': lat,\n",
    "    'lng': long,\n",
    "      ######## secondary swell ????\n",
    "    'params': ','.join(['airTemperature','swellDirection','swellHeight','swellPeriod','secondarySwellDirection','secondarySwellHeight','secondarySwellPeriod','windDirection','windSpeed']),\n",
    "    'start': start.to('UTC').timestamp,  # Convert to UTC timestamp\n",
    "    'end': end.to('UTC').timestamp  # Convert to UTC timestamp\n",
    "  },\n",
    "  headers={\n",
    "    'Authorization': '0fe486ac-3acf-11eb-93d6-0242ac130002-0fe4872e-3acf-11eb-93d6-0242ac130002'\n",
    "  }\n",
    ")\n",
    "\n",
    "# key3: 0fe486ac-3acf-11eb-93d6-0242ac130002-0fe4872e-3acf-11eb-93d6-0242ac130002\n",
    "# key2: 684468aa-3ab9-11eb-9d20-0242ac130002-68446922-3ab9-11eb-9d20-0242ac130002\n",
    "# key1: '1eb723a6-2805-11eb-8ea5-0242ac130002-1eb7248c-2805-11eb-8ea5-0242ac130002'\n",
    "\n",
    "# Do something with response data.\n",
    "############################################################################################# weather\n",
    "# weather_data = response.json()\n",
    "\n",
    "\n",
    "weather_meta = weather_data['meta']\n",
    "weather_hours = weather_data['hours']\n",
    "\n",
    "weather_meta\n",
    "weather_hours\n",
    "#len(weather_hours)\n",
    "\n",
    "pd.json_normalize(weather_hours)\n",
    "df_weather = pd.json_normalize(weather_hours)\n",
    "\n",
    "#print('df_weather')\n",
    "#print(df_weather)\n",
    "\n",
    "#### extremem tide\n",
    "start = arrow.now().floor('day')\n",
    "end = arrow.now().shift(days=1).floor('day')\n",
    "\n",
    "response = requests.get(\n",
    "  'https://api.stormglass.io/v2/tide/extremes/point',\n",
    "  params={\n",
    "    'lat': lat,\n",
    "    'lng': long,\n",
    "    'start': start.to('UTC').timestamp,  # Convert to UTC timestamp\n",
    "    'end': end.to('UTC').timestamp,  # Convert to UTC timestam\n",
    "  },\n",
    "  headers={\n",
    "    'Authorization': '0fe486ac-3acf-11eb-93d6-0242ac130002-0fe4872e-3acf-11eb-93d6-0242ac130002'\n",
    "  }\n",
    ")\n",
    "\n",
    "# key3: 0fe486ac-3acf-11eb-93d6-0242ac130002-0fe4872e-3acf-11eb-93d6-0242ac130002\n",
    "# key2: 684468aa-3ab9-11eb-9d20-0242ac130002-68446922-3ab9-11eb-9d20-0242ac130002\n",
    "# key1: '1eb723a6-2805-11eb-8ea5-0242ac130002-1eb7248c-2805-11eb-8ea5-0242ac130002'\n",
    "\n",
    "# Do something with response data.\n",
    "############################################################################################# extremeTide\n",
    "# extremeTide_data_all = response.json()\n",
    "\n",
    "#extremeTide_data_all\n",
    "\n",
    "extremeTide_data = extremeTide_data_all['data']\n",
    "extremeTide_meta = extremeTide_data_all['meta']\n",
    "\n",
    "df_extremeTide = pd.json_normalize(extremeTide_data)\n",
    "df_extremeTide.head()\n",
    "\n",
    "df_extremeTide_meta = pd.json_normalize(extremeTide_meta)\n",
    "df_extremeTide_meta\n",
    "\n",
    "## retrieve seal level data\n",
    "start = arrow.now().floor('day')\n",
    "end = arrow.now().shift(days=1).floor('day')\n",
    "\n",
    "response = requests.get(\n",
    "  'https://api.stormglass.io/v2/tide/sea-level/point',\n",
    "  params={\n",
    "    'lat': lat,\n",
    "    'lng': long,\n",
    "    'start': start.to('UTC').timestamp,  # Convert to UTC timestamp\n",
    "    'end': end.to('UTC').timestamp,  # Convert to UTC timestam\n",
    "  },\n",
    "  headers={\n",
    "    'Authorization': '0fe486ac-3acf-11eb-93d6-0242ac130002-0fe4872e-3acf-11eb-93d6-0242ac130002'\n",
    "  }\n",
    ")\n",
    "\n",
    "# key3: 0fe486ac-3acf-11eb-93d6-0242ac130002-0fe4872e-3acf-11eb-93d6-0242ac130002\n",
    "# key2: 684468aa-3ab9-11eb-9d20-0242ac130002-68446922-3ab9-11eb-9d20-0242ac130002\n",
    "# key1: '1eb723a6-2805-11eb-8ea5-0242ac130002-1eb7248c-2805-11eb-8ea5-0242ac130002'\n",
    "\n",
    "# Do something with response data.\n",
    "\n",
    "############################################################################################# seaLevel\n",
    "seaLevel_data_all = response.json()\n",
    "seaLevel_data_all\n",
    "\n",
    "\n",
    "seaLevel_data = seaLevel_data_all['data']\n",
    "seaLevel_meta = seaLevel_data_all['meta']\n",
    "\n",
    "df_seaLevel = pd.json_normalize(seaLevel_data)\n",
    "df_seaLevel\n",
    "\n",
    "df_seaLevel_meta = pd.json_normalize(seaLevel_meta)\n",
    "df_seaLevel_meta\n",
    "\n",
    "#Visulizations\n",
    "\n",
    "import matplotlib as mpl\n",
    "import matplotlib.pyplot as plt\n",
    "import seaborn as sns\n",
    "import pandas as pd\n",
    "import scipy.stats\n",
    "\n",
    "fig, ax = plt.subplots(figsize=(10, 10))\n",
    "\n",
    "ax.scatter(df_weather.index.values,\n",
    "           df_weather[\"airTemperature.noaa\"],\n",
    "           color='purple')\n",
    "\n",
    "ax.set(xlabel=\"hour\",\n",
    "       ylabel=\"airTemperature\",\n",
    "       title=\"Hourly airTemperature (celsius) at {loc} on {date}\".format(loc=loc, date=date))\n",
    "\n",
    "plt.show()\n",
    "fig.savefig('airTemperature_{loc}_{date}.png'.format(loc=loc,date=date))\n",
    "\n",
    "df_weather\n",
    "df_weather.columns\n",
    "\n",
    "df_weather[\"hour\"] = df_weather.time.str[11:13]\n",
    "\n",
    "if(\"swellHeight.noaa\" in df_weather):\n",
    "    df_weather[\"swellHeight.noaa\"].plot(title='Swell Height (meters) at {loc} on {date}'.format(loc=loc, date=date))\n",
    "else:\n",
    "    print(\"No available data for secondary swell for \" + loc + \"from stormglass API.\")\n",
    "    \n",
    "if(\"swellDirection.noaa\" in df_weather):\n",
    "    df_weather.plot(kind='bar', y='swellDirection.noaa', x='hour', title='Swell Direction (0°north) at {loc} on {date}'.format(loc=loc, date=date))\n",
    "    fig1 = plt.gcf()\n",
    "    plt.show()\n",
    "    fig1.savefig('swellDirection_{loc}_{date}.png'.format(loc=loc,date=date))\n",
    "else:\n",
    "    print(\"No available data for swell direction for \" + loc + \"from stormglass API.\")\n",
    "    \n",
    "if(\"swellPeriod.noaa\" in df_weather):\n",
    "    df_weather.plot(kind='barh', y='swellPeriod.noaa', x='hour', title='Swell Period (seconds) at {loc} on {date}'.format(loc=loc, date=date))\n",
    "    fig1 = plt.gcf()\n",
    "    plt.show()\n",
    "    fig1.savefig('swellPeriod_{loc}_{date}.png'.format(loc=loc,date=date))\n",
    "else:\n",
    "    print(\"No available data for swell period for \" + loc + \"from stormglass API.\")\n",
    "    \n",
    "plt.plot(df_weather[\"windSpeed.noaa\"])\n",
    "plt.ylabel(\"Wind Speed(meters per second)\");\n",
    "plt.title(\"Wind Speed at {loc} on {date}\".format(loc=loc, date=date))\n",
    "fig1 = plt.gcf()\n",
    "plt.show()\n",
    "fig1.savefig('WindSpeed_{loc}_{date}.png'.format(loc=loc,date=date))\n",
    "\n",
    "#wind Direction and ??? over time of the day??\n",
    "\n",
    "df_weather.plot.box(y='windDirection.noaa', title='Wind Direction (0°north) at {loc} on {date}'.format(loc=loc, date=date),\n",
    "                    patch_artist=True, showmeans=True, \n",
    "                    boxprops = {'color':'black','facecolor':'#9999ff'}, \n",
    "                    flierprops = {'marker':'o','markerfacecolor':'red','color':'black'},\n",
    "                    meanprops = {'marker':'D','markerfacecolor':'indianred'},\n",
    "                    medianprops = {'linestyle':'--','color':'orange'})\n",
    "plt.yticks([24,48,72,96,120,144,168,192,216,240,264,288,312,336,360],\n",
    "           [\"N\",\"NNE\",\"NE\",\"ENE\",\"E\",\"ESE\", \"SE\", \"SSE\",\"S\",\"SSW\",\"SW\",\"WSW\",\"W\",\"WNW\",\"NW\",\"NNW\"])\n",
    "\n",
    "\n",
    "#wind direction\n",
    "plt.plot(df_weather[\"windDirection.noaa\"])\n",
    "plt.ylabel(\"Wind Direction (0°north)\");\n",
    "plt.xlabel(\"time\")\n",
    "plt.yticks([24,48,72,96,120,144,168,192,216,240,264,288,312,336,360],\n",
    "           [\"N\",\"NNE\",\"NE\",\"ENE\",\"E\",\"ESE\", \"SE\", \"SSE\",\"S\",\"SSW\",\"SW\",\"WSW\",\"W\",\"WNW\",\"NW\",\"NNW\"])\n",
    "#plt.title()\n",
    "fig1 = plt.gcf()\n",
    "plt.show()\n",
    "fig1.savefig('WindDirection_{loc}_{date}.png'.format(loc=loc,date=date))\n",
    "\n",
    "# Fixing random state for reproducibility\n",
    "\n",
    "# Compute areas and colors\n",
    "\n",
    "area = 200 * 100**2\n",
    "\n",
    "fig = plt.figure()\n",
    "ax = fig.add_subplot(111, projection='polar')\n",
    "c = ax.scatter(df_weather[\"windDirection.noaa\"], df_weather[\"time\"].str[11:13], cmap='hsv', alpha=0.75)\n",
    "\n",
    "\n",
    "from windrose import WindroseAxes\n",
    "\n",
    "# Create wind speed and direction variables\n",
    "  \n",
    "ax = WindroseAxes.from_ax()\n",
    "ax.bar(df_weather['windDirection.noaa'], df_weather['windSpeed.noaa'], normed=True, opening=0.8, edgecolor='white')\n",
    "title='WindRose Plot at {loc} on {date}'.format(loc=loc, date=date)\n",
    "ax.set_title(title,fontsize=15,loc='center')\n",
    "\n",
    "ax.set_legend()\n",
    " \n",
    "fig1 = plt.gcf()\n",
    "plt.show()\n",
    "fig1.savefig('WindRose_{loc}_{date}.png'.format(loc=loc,date=date))\n",
    "\n",
    "\n",
    "df_cords = df10[['location_name','Long', 'Lat']]\n",
    "df_cords.head()\n",
    "\n",
    "import plotly.graph_objects as go\n",
    "\n",
    "fig = go.Figure(data=go.Scattergeo(\n",
    "        lon = df_cords['Long'],\n",
    "        lat = df_cords['Lat'],\n",
    "        text = df_cords['location_name'],\n",
    "        mode = 'markers',\n",
    "        marker_color = 'blue',\n",
    "        ))\n",
    "\n",
    "fig.update_layout(\n",
    "        title = 'Coast locations',\n",
    "        geo_scope='world',\n",
    "    )\n",
    "fig.show()\n",
    "\n",
    "############## Getting Tides Data and Plot ################3\n",
    "tideScraper(loc, state, lat, long, date)\n",
    "tideCalculator(loc, date)"
   ]
  },
  {
   "cell_type": "code",
   "execution_count": 5,
   "metadata": {},
   "outputs": [
    {
     "name": "stdout",
     "output_type": "stream",
     "text": [
      "Overwriting surf.py\n"
     ]
    }
   ],
   "source": [
    "# %%writefile surf.py"
   ]
  },
  {
   "cell_type": "code",
   "execution_count": null,
   "metadata": {},
   "outputs": [],
   "source": []
  }
 ],
 "metadata": {
  "kernelspec": {
   "display_name": "Python 3",
   "language": "python",
   "name": "python3"
  },
  "language_info": {
   "codemirror_mode": {
    "name": "ipython",
    "version": 3
   },
   "file_extension": ".py",
   "mimetype": "text/x-python",
   "name": "python",
   "nbconvert_exporter": "python",
   "pygments_lexer": "ipython3",
   "version": "3.7.4"
  }
 },
 "nbformat": 4,
 "nbformat_minor": 2
}
