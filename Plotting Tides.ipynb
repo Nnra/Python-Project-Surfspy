{
 "cells": [
  {
   "cell_type": "code",
   "execution_count": 5,
   "metadata": {},
   "outputs": [],
   "source": [
    "import numpy as np\n",
    "import pandas as pd\n",
    "import matplotlib.pyplot as plt"
   ]
  },
  {
   "cell_type": "code",
   "execution_count": 6,
   "metadata": {
    "scrolled": false
   },
   "outputs": [
    {
     "data": {
      "text/html": [
       "<div>\n",
       "<style scoped>\n",
       "    .dataframe tbody tr th:only-of-type {\n",
       "        vertical-align: middle;\n",
       "    }\n",
       "\n",
       "    .dataframe tbody tr th {\n",
       "        vertical-align: top;\n",
       "    }\n",
       "\n",
       "    .dataframe thead th {\n",
       "        text-align: right;\n",
       "    }\n",
       "</style>\n",
       "<table border=\"1\" class=\"dataframe\">\n",
       "  <thead>\n",
       "    <tr style=\"text-align: right;\">\n",
       "      <th></th>\n",
       "      <th>Unnamed: 0</th>\n",
       "      <th>time</th>\n",
       "      <th>airTemperature.dwd</th>\n",
       "      <th>airTemperature.noaa</th>\n",
       "      <th>airTemperature.sg</th>\n",
       "      <th>airTemperature.smhi</th>\n",
       "      <th>secondarySwellDirection.noaa</th>\n",
       "      <th>secondarySwellDirection.sg</th>\n",
       "      <th>secondarySwellHeight.noaa</th>\n",
       "      <th>secondarySwellHeight.sg</th>\n",
       "      <th>...</th>\n",
       "      <th>windSpeed.smhi</th>\n",
       "      <th>Tides Date</th>\n",
       "      <th>Tides Type</th>\n",
       "      <th>Tides Time</th>\n",
       "      <th>Tides Height</th>\n",
       "      <th>Coast Spot</th>\n",
       "      <th>locality</th>\n",
       "      <th>state</th>\n",
       "      <th>long</th>\n",
       "      <th>lat</th>\n",
       "    </tr>\n",
       "  </thead>\n",
       "  <tbody>\n",
       "    <tr>\n",
       "      <td>0</td>\n",
       "      <td>0</td>\n",
       "      <td>2020-11-18T16:00:00+00:00</td>\n",
       "      <td>11.16</td>\n",
       "      <td>12.15</td>\n",
       "      <td>11.8</td>\n",
       "      <td>11.8</td>\n",
       "      <td>114.71</td>\n",
       "      <td>114.71</td>\n",
       "      <td>0.35</td>\n",
       "      <td>0.35</td>\n",
       "      <td>...</td>\n",
       "      <td>5.5</td>\n",
       "      <td>Wed 18 Nov</td>\n",
       "      <td>High</td>\n",
       "      <td>2:15 pm</td>\n",
       "      <td>1.70 m</td>\n",
       "      <td>Apollo Bay, VIC</td>\n",
       "      <td>Australian National University</td>\n",
       "      <td>ACT</td>\n",
       "      <td>149.1189</td>\n",
       "      <td>-35.2777</td>\n",
       "    </tr>\n",
       "    <tr>\n",
       "      <td>1</td>\n",
       "      <td>1</td>\n",
       "      <td>2020-11-18T17:00:00+00:00</td>\n",
       "      <td>11.04</td>\n",
       "      <td>12.04</td>\n",
       "      <td>11.9</td>\n",
       "      <td>11.9</td>\n",
       "      <td>114.71</td>\n",
       "      <td>114.71</td>\n",
       "      <td>0.35</td>\n",
       "      <td>0.35</td>\n",
       "      <td>...</td>\n",
       "      <td>5.1</td>\n",
       "      <td>Wed 18 Nov</td>\n",
       "      <td>High</td>\n",
       "      <td>2:15 pm</td>\n",
       "      <td>1.70 m</td>\n",
       "      <td>Apollo Bay, VIC</td>\n",
       "      <td>Australian National University</td>\n",
       "      <td>ACT</td>\n",
       "      <td>149.1189</td>\n",
       "      <td>-35.2777</td>\n",
       "    </tr>\n",
       "    <tr>\n",
       "      <td>2</td>\n",
       "      <td>2</td>\n",
       "      <td>2020-11-18T18:00:00+00:00</td>\n",
       "      <td>10.68</td>\n",
       "      <td>11.93</td>\n",
       "      <td>11.9</td>\n",
       "      <td>11.9</td>\n",
       "      <td>114.71</td>\n",
       "      <td>114.71</td>\n",
       "      <td>0.35</td>\n",
       "      <td>0.35</td>\n",
       "      <td>...</td>\n",
       "      <td>5.3</td>\n",
       "      <td>Wed 18 Nov</td>\n",
       "      <td>High</td>\n",
       "      <td>2:15 pm</td>\n",
       "      <td>1.70 m</td>\n",
       "      <td>Apollo Bay, VIC</td>\n",
       "      <td>Australian National University</td>\n",
       "      <td>ACT</td>\n",
       "      <td>149.1189</td>\n",
       "      <td>-35.2777</td>\n",
       "    </tr>\n",
       "    <tr>\n",
       "      <td>3</td>\n",
       "      <td>3</td>\n",
       "      <td>2020-11-18T19:00:00+00:00</td>\n",
       "      <td>10.51</td>\n",
       "      <td>11.67</td>\n",
       "      <td>12.0</td>\n",
       "      <td>12.0</td>\n",
       "      <td>114.71</td>\n",
       "      <td>114.71</td>\n",
       "      <td>0.35</td>\n",
       "      <td>0.35</td>\n",
       "      <td>...</td>\n",
       "      <td>6.8</td>\n",
       "      <td>Wed 18 Nov</td>\n",
       "      <td>High</td>\n",
       "      <td>2:15 pm</td>\n",
       "      <td>1.70 m</td>\n",
       "      <td>Apollo Bay, VIC</td>\n",
       "      <td>Australian National University</td>\n",
       "      <td>ACT</td>\n",
       "      <td>149.1189</td>\n",
       "      <td>-35.2777</td>\n",
       "    </tr>\n",
       "    <tr>\n",
       "      <td>4</td>\n",
       "      <td>4</td>\n",
       "      <td>2020-11-18T20:00:00+00:00</td>\n",
       "      <td>10.32</td>\n",
       "      <td>11.40</td>\n",
       "      <td>11.8</td>\n",
       "      <td>11.8</td>\n",
       "      <td>114.71</td>\n",
       "      <td>114.71</td>\n",
       "      <td>0.35</td>\n",
       "      <td>0.35</td>\n",
       "      <td>...</td>\n",
       "      <td>6.2</td>\n",
       "      <td>Wed 18 Nov</td>\n",
       "      <td>Low</td>\n",
       "      <td>7:59 pm</td>\n",
       "      <td>0.13 m</td>\n",
       "      <td>Apollo Bay, VIC</td>\n",
       "      <td>Australian National University</td>\n",
       "      <td>ACT</td>\n",
       "      <td>149.1189</td>\n",
       "      <td>-35.2777</td>\n",
       "    </tr>\n",
       "  </tbody>\n",
       "</table>\n",
       "<p>5 rows × 44 columns</p>\n",
       "</div>"
      ],
      "text/plain": [
       "   Unnamed: 0                       time  airTemperature.dwd  \\\n",
       "0           0  2020-11-18T16:00:00+00:00               11.16   \n",
       "1           1  2020-11-18T17:00:00+00:00               11.04   \n",
       "2           2  2020-11-18T18:00:00+00:00               10.68   \n",
       "3           3  2020-11-18T19:00:00+00:00               10.51   \n",
       "4           4  2020-11-18T20:00:00+00:00               10.32   \n",
       "\n",
       "   airTemperature.noaa  airTemperature.sg  airTemperature.smhi  \\\n",
       "0                12.15               11.8                 11.8   \n",
       "1                12.04               11.9                 11.9   \n",
       "2                11.93               11.9                 11.9   \n",
       "3                11.67               12.0                 12.0   \n",
       "4                11.40               11.8                 11.8   \n",
       "\n",
       "   secondarySwellDirection.noaa  secondarySwellDirection.sg  \\\n",
       "0                        114.71                      114.71   \n",
       "1                        114.71                      114.71   \n",
       "2                        114.71                      114.71   \n",
       "3                        114.71                      114.71   \n",
       "4                        114.71                      114.71   \n",
       "\n",
       "   secondarySwellHeight.noaa  secondarySwellHeight.sg  ...  windSpeed.smhi  \\\n",
       "0                       0.35                     0.35  ...             5.5   \n",
       "1                       0.35                     0.35  ...             5.1   \n",
       "2                       0.35                     0.35  ...             5.3   \n",
       "3                       0.35                     0.35  ...             6.8   \n",
       "4                       0.35                     0.35  ...             6.2   \n",
       "\n",
       "   Tides Date  Tides Type  Tides Time  Tides Height       Coast Spot  \\\n",
       "0  Wed 18 Nov        High     2:15 pm        1.70 m  Apollo Bay, VIC   \n",
       "1  Wed 18 Nov        High     2:15 pm        1.70 m  Apollo Bay, VIC   \n",
       "2  Wed 18 Nov        High     2:15 pm        1.70 m  Apollo Bay, VIC   \n",
       "3  Wed 18 Nov        High     2:15 pm        1.70 m  Apollo Bay, VIC   \n",
       "4  Wed 18 Nov         Low     7:59 pm        0.13 m  Apollo Bay, VIC   \n",
       "\n",
       "                         locality  state      long      lat  \n",
       "0  Australian National University    ACT  149.1189 -35.2777  \n",
       "1  Australian National University    ACT  149.1189 -35.2777  \n",
       "2  Australian National University    ACT  149.1189 -35.2777  \n",
       "3  Australian National University    ACT  149.1189 -35.2777  \n",
       "4  Australian National University    ACT  149.1189 -35.2777  \n",
       "\n",
       "[5 rows x 44 columns]"
      ]
     },
     "execution_count": 6,
     "metadata": {},
     "output_type": "execute_result"
    }
   ],
   "source": [
    "df = pd.read_csv('merged_data.csv')  \n",
    "df.head()"
   ]
  },
  {
   "cell_type": "code",
   "execution_count": 7,
   "metadata": {},
   "outputs": [],
   "source": [
    "X = df['Tides Height']"
   ]
  },
  {
   "cell_type": "code",
   "execution_count": 8,
   "metadata": {},
   "outputs": [],
   "source": [
    "df_X = pd.DataFrame(data=df['Tides Height'].values, columns = {'Height'})"
   ]
  },
  {
   "cell_type": "code",
   "execution_count": 5,
   "metadata": {
    "scrolled": true
   },
   "outputs": [
    {
     "data": {
      "text/html": [
       "<div>\n",
       "<style scoped>\n",
       "    .dataframe tbody tr th:only-of-type {\n",
       "        vertical-align: middle;\n",
       "    }\n",
       "\n",
       "    .dataframe tbody tr th {\n",
       "        vertical-align: top;\n",
       "    }\n",
       "\n",
       "    .dataframe thead th {\n",
       "        text-align: right;\n",
       "    }\n",
       "</style>\n",
       "<table border=\"1\" class=\"dataframe\">\n",
       "  <thead>\n",
       "    <tr style=\"text-align: right;\">\n",
       "      <th></th>\n",
       "      <th>Height</th>\n",
       "    </tr>\n",
       "  </thead>\n",
       "  <tbody>\n",
       "    <tr>\n",
       "      <td>0</td>\n",
       "      <td>1.70 m</td>\n",
       "    </tr>\n",
       "    <tr>\n",
       "      <td>1</td>\n",
       "      <td>1.70 m</td>\n",
       "    </tr>\n",
       "    <tr>\n",
       "      <td>2</td>\n",
       "      <td>1.70 m</td>\n",
       "    </tr>\n",
       "    <tr>\n",
       "      <td>3</td>\n",
       "      <td>1.70 m</td>\n",
       "    </tr>\n",
       "    <tr>\n",
       "      <td>4</td>\n",
       "      <td>0.13 m</td>\n",
       "    </tr>\n",
       "    <tr>\n",
       "      <td>5</td>\n",
       "      <td>0.13 m</td>\n",
       "    </tr>\n",
       "    <tr>\n",
       "      <td>6</td>\n",
       "      <td>0.13 m</td>\n",
       "    </tr>\n",
       "    <tr>\n",
       "      <td>7</td>\n",
       "      <td>0.13 m</td>\n",
       "    </tr>\n",
       "    <tr>\n",
       "      <td>8</td>\n",
       "      <td>2.23 m</td>\n",
       "    </tr>\n",
       "    <tr>\n",
       "      <td>9</td>\n",
       "      <td>2.23 m</td>\n",
       "    </tr>\n",
       "    <tr>\n",
       "      <td>10</td>\n",
       "      <td>2.23 m</td>\n",
       "    </tr>\n",
       "    <tr>\n",
       "      <td>11</td>\n",
       "      <td>2.23 m</td>\n",
       "    </tr>\n",
       "    <tr>\n",
       "      <td>12</td>\n",
       "      <td>2.23 m</td>\n",
       "    </tr>\n",
       "    <tr>\n",
       "      <td>13</td>\n",
       "      <td>2.23 m</td>\n",
       "    </tr>\n",
       "    <tr>\n",
       "      <td>14</td>\n",
       "      <td>2.23 m</td>\n",
       "    </tr>\n",
       "    <tr>\n",
       "      <td>15</td>\n",
       "      <td>2.23 m</td>\n",
       "    </tr>\n",
       "    <tr>\n",
       "      <td>16</td>\n",
       "      <td>2.23 m</td>\n",
       "    </tr>\n",
       "    <tr>\n",
       "      <td>17</td>\n",
       "      <td>0.74 m</td>\n",
       "    </tr>\n",
       "    <tr>\n",
       "      <td>18</td>\n",
       "      <td>0.74 m</td>\n",
       "    </tr>\n",
       "    <tr>\n",
       "      <td>19</td>\n",
       "      <td>0.74 m</td>\n",
       "    </tr>\n",
       "    <tr>\n",
       "      <td>20</td>\n",
       "      <td>0.74 m</td>\n",
       "    </tr>\n",
       "    <tr>\n",
       "      <td>21</td>\n",
       "      <td>0.74 m</td>\n",
       "    </tr>\n",
       "    <tr>\n",
       "      <td>22</td>\n",
       "      <td>0.74 m</td>\n",
       "    </tr>\n",
       "    <tr>\n",
       "      <td>23</td>\n",
       "      <td>1.66 m</td>\n",
       "    </tr>\n",
       "  </tbody>\n",
       "</table>\n",
       "</div>"
      ],
      "text/plain": [
       "    Height\n",
       "0   1.70 m\n",
       "1   1.70 m\n",
       "2   1.70 m\n",
       "3   1.70 m\n",
       "4   0.13 m\n",
       "5   0.13 m\n",
       "6   0.13 m\n",
       "7   0.13 m\n",
       "8   2.23 m\n",
       "9   2.23 m\n",
       "10  2.23 m\n",
       "11  2.23 m\n",
       "12  2.23 m\n",
       "13  2.23 m\n",
       "14  2.23 m\n",
       "15  2.23 m\n",
       "16  2.23 m\n",
       "17  0.74 m\n",
       "18  0.74 m\n",
       "19  0.74 m\n",
       "20  0.74 m\n",
       "21  0.74 m\n",
       "22  0.74 m\n",
       "23  1.66 m"
      ]
     },
     "execution_count": 5,
     "metadata": {},
     "output_type": "execute_result"
    }
   ],
   "source": [
    "pd.DataFrame(data=df['Tides Height'].values, columns = {'Height'})"
   ]
  },
  {
   "cell_type": "code",
   "execution_count": 9,
   "metadata": {},
   "outputs": [],
   "source": [
    "X = pd.Series(df['Tides Height'].values).str.slice(stop=-1)"
   ]
  },
  {
   "cell_type": "code",
   "execution_count": 10,
   "metadata": {},
   "outputs": [],
   "source": [
    "X_n = pd.to_numeric(X)"
   ]
  },
  {
   "cell_type": "code",
   "execution_count": 11,
   "metadata": {},
   "outputs": [
    {
     "data": {
      "text/plain": [
       "<matplotlib.axes._subplots.AxesSubplot at 0x7fc12ca8a590>"
      ]
     },
     "execution_count": 11,
     "metadata": {},
     "output_type": "execute_result"
    },
    {
     "data": {
      "image/png": "[encoded data removed]",
      "text/plain": [
       "<Figure size 432x288 with 1 Axes>"
      ]
     },
     "metadata": {
      "needs_background": "light"
     },
     "output_type": "display_data"
    }
   ],
   "source": [
    "X_n.plot()"
   ]
  },
  {
   "cell_type": "code",
   "execution_count": 11,
   "metadata": {},
   "outputs": [
    {
     "data": {
      "text/plain": [
       "array([ 0,  1,  2,  3,  4,  5,  6,  7,  8,  9, 10, 11, 12, 13, 14, 15, 16,\n",
       "       17, 18, 19, 20, 21, 22, 23])"
      ]
     },
     "execution_count": 11,
     "metadata": {},
     "output_type": "execute_result"
    }
   ],
   "source": [
    "# Y = np.arange(24)\n",
    "# Y"
   ]
  },
  {
   "cell_type": "code",
   "execution_count": 26,
   "metadata": {
    "scrolled": true
   },
   "outputs": [],
   "source": [
    "Y = pd.Series(df['time'].values).str.slice(start=11 ,stop=13)"
   ]
  },
  {
   "cell_type": "code",
   "execution_count": 50,
   "metadata": {},
   "outputs": [
    {
     "data": {
      "text/plain": [
       "'2020-11-18 16:00'"
      ]
     },
     "execution_count": 50,
     "metadata": {},
     "output_type": "execute_result"
    }
   ],
   "source": [
    "df['time'].values[0][:10] + ' ' + df['time'].values[0][11:16]"
   ]
  },
  {
   "cell_type": "code",
   "execution_count": 55,
   "metadata": {},
   "outputs": [
    {
     "data": {
      "image/png": "[encoded data removed]",
      "text/plain": [
       "<Figure size 720x432 with 1 Axes>"
      ]
     },
     "metadata": {
      "needs_background": "light"
     },
     "output_type": "display_data"
    }
   ],
   "source": [
    "plt.figure(figsize=(10,6))\n",
    "plt.plot(Y, X_n)\n",
    "plt.xlabel('Tides hour start from '+ df['time'].values[0][:10] + ' ' + df['time'].values[0][11:16])\n",
    "plt.ylabel('Tides Height')\n",
    "plt.title(\"Tides Height-Time\")\n",
    "plt.show()"
   ]
  },
  {
   "cell_type": "code",
   "execution_count": null,
   "metadata": {},
   "outputs": [],
   "source": []
  },
  {
   "cell_type": "markdown",
   "metadata": {},
   "source": [
    "### Interactive"
   ]
  },
  {
   "cell_type": "code",
   "execution_count": 78,
   "metadata": {},
   "outputs": [
    {
     "data": {
      "application/vnd.jupyter.widget-view+json": {
       "model_id": "6f1610781c034f74936e06585bdf41ad",
       "version_major": 2,
       "version_minor": 0
      },
      "text/plain": [
       "interactive(children=(IntSlider(value=15, description='m', max=24, min=6), IntSlider(value=0, description='b',…"
      ]
     },
     "metadata": {},
     "output_type": "display_data"
    }
   ],
   "source": [
    "%matplotlib inline\n",
    "from ipywidgets import interactive\n",
    "import matplotlib.pyplot as plt\n",
    "import numpy as np\n",
    "\n",
    "def f(m, b):\n",
    "    plt.figure(2)\n",
    "    x = np.linspace(-10, 10, num=1000)\n",
    "    plt.plot(Y[:m], X_n[:m])\n",
    "    plt.ylim(-2, 4)\n",
    "    plt.xlabel('Tides hour start from '+ df['time'].values[0][:10] + ' ' + df['time'].values[0][11:16])\n",
    "    plt.ylabel('Tides Height')\n",
    "    plt.title(\"Tides Height-Time\")\n",
    "    plt.show()\n",
    "\n",
    "interactive_plot = interactive(f, m=(6, 24), b=(0, 1, 3))\n",
    "output = interactive_plot.children[-1]\n",
    "output.layout.height = '350px'\n",
    "interactive_plot"
   ]
  },
  {
   "cell_type": "markdown",
   "metadata": {},
   "source": [
    "### User Input"
   ]
  },
  {
   "cell_type": "code",
   "execution_count": 141,
   "metadata": {},
   "outputs": [
    {
     "name": "stdout",
     "output_type": "stream",
     "text": [
      "Enter year: 2020\n",
      "Enter month: 11\n",
      "Enter day: 19\n"
     ]
    }
   ],
   "source": [
    "year = input(\"Enter year: \")\n",
    "month = input(\"Enter month: \")\n",
    "day = input(\"Enter day: \")"
   ]
  },
  {
   "cell_type": "code",
   "execution_count": 142,
   "metadata": {},
   "outputs": [
    {
     "name": "stdout",
     "output_type": "stream",
     "text": [
      "['2020-11-19T00:00:00+00:00', '2020-11-19T01:00:00+00:00', '2020-11-19T02:00:00+00:00', '2020-11-19T03:00:00+00:00', '2020-11-19T04:00:00+00:00', '2020-11-19T05:00:00+00:00', '2020-11-19T06:00:00+00:00', '2020-11-19T07:00:00+00:00', '2020-11-19T08:00:00+00:00', '2020-11-19T09:00:00+00:00', '2020-11-19T10:00:00+00:00', '2020-11-19T11:00:00+00:00', '2020-11-19T12:00:00+00:00', '2020-11-19T13:00:00+00:00', '2020-11-19T14:00:00+00:00', '2020-11-19T15:00:00+00:00'] ['2.23 m', '2.23 m', '2.23 m', '2.23 m', '2.23 m', '2.23 m', '2.23 m', '2.23 m', '2.23 m', '0.74 m', '0.74 m', '0.74 m', '0.74 m', '0.74 m', '0.74 m', '1.66 m']\n"
     ]
    }
   ],
   "source": [
    "timelist = []\n",
    "heightlist = []\n",
    "for i in range(len(df)):\n",
    "    if df['time'].values[i][:4]==year and df['time'].values[i][5:7] == month and df['time'].values[i][8:10] == day:\n",
    "        timelist.append(df['time'].values[i])\n",
    "        heightlist.append(df['Tides Height'].values[i])\n",
    "\n",
    "print(timelist,  heightlist)"
   ]
  },
  {
   "cell_type": "code",
   "execution_count": 148,
   "metadata": {},
   "outputs": [
    {
     "data": {
      "image/png": "[encoded data removed]",
      "text/plain": [
       "<Figure size 720x432 with 1 Axes>"
      ]
     },
     "metadata": {
      "needs_background": "light"
     },
     "output_type": "display_data"
    }
   ],
   "source": [
    "# X time = pd.Series(timelist).str.slice(stop=10) + ' '+ pd.Series(timelist).str.slice(start=11, stop = 16)\n",
    "plt.figure(figsize=(10,6))\n",
    "plt.plot(pd.Series(timelist).str.slice(start=11, stop = 16), heightlist)\n",
    "plt.xlabel('Tides hour start from '+ timelist[0][:10] + ' ' + timelist[0][11:16]\n",
    "           #df['time'].values[0][:10] + ' ' + df['time'].values[0][11:16]\n",
    "          )\n",
    "plt.ylabel('Tides Height')\n",
    "plt.title(\"Tides Height-Time\")\n",
    "plt.show()"
   ]
  },
  {
   "cell_type": "code",
   "execution_count": null,
   "metadata": {},
   "outputs": [],
   "source": []
  }
 ],
 "metadata": {
  "kernelspec": {
   "display_name": "Python 3",
   "language": "python",
   "name": "python3"
  },
  "language_info": {
   "codemirror_mode": {
    "name": "ipython",
    "version": 3
   },
   "file_extension": ".py",
   "mimetype": "text/x-python",
   "name": "python",
   "nbconvert_exporter": "python",
   "pygments_lexer": "ipython3",
   "version": "3.7.4"
  }
 },
 "nbformat": 4,
 "nbformat_minor": 2
}
